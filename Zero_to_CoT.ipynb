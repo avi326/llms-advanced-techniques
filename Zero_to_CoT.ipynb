{
  "cells": [
    {
      "cell_type": "code",
      "source": [
        "!pip install openai\n",
        "!pip install python-dotenv"
      ],
      "metadata": {
        "colab": {
          "base_uri": "https://localhost:8080/"
        },
        "id": "hMQ7QWco2Z-U",
        "outputId": "a6b5ce4b-15e5-4492-97b4-bc8d363c4c10"
      },
      "execution_count": 43,
      "outputs": [
        {
          "output_type": "stream",
          "name": "stdout",
          "text": [
            "Requirement already satisfied: openai in /usr/local/lib/python3.10/dist-packages (1.37.1)\n",
            "Requirement already satisfied: anyio<5,>=3.5.0 in /usr/local/lib/python3.10/dist-packages (from openai) (3.7.1)\n",
            "Requirement already satisfied: distro<2,>=1.7.0 in /usr/lib/python3/dist-packages (from openai) (1.7.0)\n",
            "Requirement already satisfied: httpx<1,>=0.23.0 in /usr/local/lib/python3.10/dist-packages (from openai) (0.27.0)\n",
            "Requirement already satisfied: pydantic<3,>=1.9.0 in /usr/local/lib/python3.10/dist-packages (from openai) (2.8.2)\n",
            "Requirement already satisfied: sniffio in /usr/local/lib/python3.10/dist-packages (from openai) (1.3.1)\n",
            "Requirement already satisfied: tqdm>4 in /usr/local/lib/python3.10/dist-packages (from openai) (4.66.4)\n",
            "Requirement already satisfied: typing-extensions<5,>=4.7 in /usr/local/lib/python3.10/dist-packages (from openai) (4.12.2)\n",
            "Requirement already satisfied: idna>=2.8 in /usr/local/lib/python3.10/dist-packages (from anyio<5,>=3.5.0->openai) (3.7)\n",
            "Requirement already satisfied: exceptiongroup in /usr/local/lib/python3.10/dist-packages (from anyio<5,>=3.5.0->openai) (1.2.2)\n",
            "Requirement already satisfied: certifi in /usr/local/lib/python3.10/dist-packages (from httpx<1,>=0.23.0->openai) (2024.7.4)\n",
            "Requirement already satisfied: httpcore==1.* in /usr/local/lib/python3.10/dist-packages (from httpx<1,>=0.23.0->openai) (1.0.5)\n",
            "Requirement already satisfied: h11<0.15,>=0.13 in /usr/local/lib/python3.10/dist-packages (from httpcore==1.*->httpx<1,>=0.23.0->openai) (0.14.0)\n",
            "Requirement already satisfied: annotated-types>=0.4.0 in /usr/local/lib/python3.10/dist-packages (from pydantic<3,>=1.9.0->openai) (0.7.0)\n",
            "Requirement already satisfied: pydantic-core==2.20.1 in /usr/local/lib/python3.10/dist-packages (from pydantic<3,>=1.9.0->openai) (2.20.1)\n",
            "Requirement already satisfied: python-dotenv in /usr/local/lib/python3.10/dist-packages (1.0.1)\n"
          ]
        }
      ]
    },
    {
      "cell_type": "markdown",
      "metadata": {
        "id": "vRlLknlB1UNl"
      },
      "source": [
        "# From Zero to CoT\n",
        "\n",
        "This notebook demonstrates various prompting techniques using zero-shot, few-shot, and chain-of-thought approaches. It also includes a medical diagnosis assistant example."
      ]
    },
    {
      "cell_type": "code",
      "execution_count": 44,
      "metadata": {
        "id": "Uk6r1Zq_1UNo"
      },
      "outputs": [],
      "source": [
        "# Import required libraries\n",
        "import os\n",
        "from openai import AzureOpenAI\n",
        "from dotenv import load_dotenv\n",
        "import re\n",
        "\n",
        "# Load environment variables from .env file\n",
        "load_dotenv()\n",
        "\n",
        "# Azure OpenAI configuration\n",
        "AOAI_CONFIG = {\n",
        "    \"model\": os.getenv(\"AZURE_OPENAI_MODEL\", \"gpt4-32k\"),\n",
        "    \"api_key\": os.getenv(\"AZURE_OPENAI_API_KEY\"),\n",
        "    \"base_url\": os.getenv(\"AZURE_OPENAI_ENDPOINT\"),\n",
        "    \"api_version\": os.getenv(\"AZURE_OPENAI_API_VERSION\", \"2024-02-01\")\n",
        "}\n",
        "\n",
        "# Initialize Azure OpenAI client\n",
        "client = AzureOpenAI(\n",
        "    api_key=AOAI_CONFIG[\"api_key\"],\n",
        "    azure_endpoint=AOAI_CONFIG[\"base_url\"],\n",
        "    api_version=AOAI_CONFIG[\"api_version\"]\n",
        ")\n",
        "\n",
        "def get_ai_response(prompt, system_message=\"You are a helpful assistant.\"):\n",
        "    \"\"\"\n",
        "    Get a response from the AI model.\n",
        "    \"\"\"\n",
        "    response = client.chat.completions.create(\n",
        "        temperature=0.3,\n",
        "        model=AOAI_CONFIG[\"model\"],\n",
        "        messages=[\n",
        "            {\"role\": \"system\", \"content\": system_message},\n",
        "            {\"role\": \"user\", \"content\": prompt}\n",
        "        ]\n",
        "    )\n",
        "    return response.choices[0].message.content\n",
        "\n",
        "def extract_answer(text):\n",
        "    \"\"\"\n",
        "    Extract the answer from the AI's response enclosed in <ans> tags.\n",
        "    \"\"\"\n",
        "    pattern = r'<ans>(.*?)</ans>'\n",
        "    matches = re.findall(pattern, text, re.DOTALL)\n",
        "    if matches:\n",
        "        return matches[0].strip()\n",
        "    return None"
      ]
    },
    {
      "cell_type": "markdown",
      "metadata": {
        "id": "2AsC5eco1UNq"
      },
      "source": [
        "## Zero-Shot Sentiment Analysis\n",
        "\n",
        "This example demonstrates zero-shot sentiment analysis, where the model classifies the sentiment of a movie review without any specific examples or training."
      ]
    },
    {
      "cell_type": "code",
      "execution_count": 45,
      "metadata": {
        "colab": {
          "base_uri": "https://localhost:8080/"
        },
        "id": "wiuG_W1Q1UNq",
        "outputId": "4a3f72d6-53e9-41ce-881f-61b00d999b98"
      },
      "outputs": [
        {
          "output_type": "stream",
          "name": "stdout",
          "text": [
            "The sentiment of this movie review is negative.\n"
          ]
        }
      ],
      "source": [
        "zero_shot_prompt = \"\"\"\n",
        "Classify the sentiment of the following movie review as positive or negative\n",
        "\"\"\"\n",
        "\n",
        "query = \"\"\" \"I couldn't stand this movie. The plot was confusing, the acting was terrible, and I was bored throughout the entire film.\"  \"\"\"\n",
        "response = get_ai_response(query, zero_shot_prompt)\n",
        "print(response)"
      ]
    },
    {
      "cell_type": "markdown",
      "metadata": {
        "id": "iI6rD11F1UNq"
      },
      "source": [
        "## Few-Shot Sentiment Analysis\n",
        "\n",
        "This example shows few-shot sentiment analysis, where we provide the model with a few examples before asking it to classify a new review."
      ]
    },
    {
      "cell_type": "code",
      "execution_count": 46,
      "metadata": {
        "colab": {
          "base_uri": "https://localhost:8080/"
        },
        "id": "0Yb3iprK1UNr",
        "outputId": "12cbe83e-e060-4ddc-a739-1df2292eca56"
      },
      "outputs": [
        {
          "output_type": "stream",
          "name": "stdout",
          "text": [
            "Sentiment: Negative\n"
          ]
        }
      ],
      "source": [
        "few_shot_prompt = \"\"\"\n",
        "Classify the sentiment of the following movie reviews as positive or negative.\n",
        "\n",
        "Review: \"This movie was absolutely terrible. I hated every minute of it.\"\n",
        "Sentiment: Negative\n",
        "\n",
        "Review: \"I loved this film! The acting was superb and the plot kept me engaged throughout.\"\n",
        "Sentiment: Positive\n",
        "\n",
        "Review: \"An instant classic! This movie will be remembered for years to come.\"\n",
        "Sentiment: Positive\n",
        "\"\"\"\n",
        "\n",
        "query =  \"\"\" Review: \"The special effects were impressive, but the story was confusing and hard to follow.\"\"\"\n",
        "\n",
        "response = get_ai_response(query, few_shot_prompt)\n",
        "\n",
        "print(response)"
      ]
    },
    {
      "cell_type": "markdown",
      "metadata": {
        "id": "kVG75vJI1UNr"
      },
      "source": [
        "## Chain-of-Thought Sentiment Analysis\n",
        "\n",
        "This example demonstrates chain-of-thought sentiment analysis, where we guide the model through a step-by-step reasoning process."
      ]
    },
    {
      "cell_type": "code",
      "execution_count": 47,
      "metadata": {
        "colab": {
          "base_uri": "https://localhost:8080/"
        },
        "id": "CMwlcJ3t1UNr",
        "outputId": "ce66b930-5115-4113-89d8-d7b3c4c99526"
      },
      "outputs": [
        {
          "output_type": "stream",
          "name": "stdout",
          "text": [
            "Step 1: Identify the main aspects mentioned in the review\n",
            "- Initial premise\n",
            "- Second act\n",
            "- Lead actor's performance\n",
            "- Supporting cast's performance\n",
            "- Special effects\n",
            "- Storyline\n",
            "\n",
            "Step 2: Analyze the sentiment for each aspect\n",
            "- Initial premise: Positive (\"started strong with an intriguing premise\")\n",
            "- Second act: Negative (\"quickly fell apart\")\n",
            "- Lead actor's performance: Positive (\"stellar performance\")\n",
            "- Supporting cast's performance: Negative (\"seemed out of their depth\")\n",
            "- Special effects: Positive (\"top-notch\")\n",
            "- Storyline: Negative (\"convoluted\")\n",
            "\n",
            "Step 3: Weigh the positive and negative aspects\n",
            "There are an equal number of positive (3) and negative (3) aspects. However, the negative comments about the second act, supporting cast, and storyline could be seen as more significant than the positive remarks about the initial premise, lead actor's performance, and special effects.\n",
            "\n",
            "Step 4: Conclude the overall sentiment\n",
            "Given that the negative aspects relate to crucial elements of the movie such as the storyline and performances of the supporting cast, and the positive aspects are more about individual performances and special effects, the overall sentiment leans towards the negative side.\n",
            "\n",
            "Therefore, the overall sentiment of this review is negative.\n"
          ]
        }
      ],
      "source": [
        "cot_prompt = \"\"\"\n",
        "Analyze the sentiment of the following movie review step by step:\n",
        "\n",
        "Review: \"While the cinematography was breathtaking, the plot left much to be desired. The characters were poorly developed, and I found myself checking my watch multiple times. However, the soundtrack was quite good.\"\n",
        "\n",
        "Step 1: Identify the main aspects mentioned in the review\n",
        "- Cinematography\n",
        "- Plot\n",
        "- Character development\n",
        "- Pacing\n",
        "- Soundtrack\n",
        "\n",
        "Step 2: Analyze the sentiment for each aspect\n",
        "- Cinematography: Positive (\"breathtaking\")\n",
        "- Plot: Negative (\"left much to be desired\")\n",
        "- Character development: Negative (\"poorly developed\")\n",
        "- Pacing: Negative (\"checking my watch multiple times\")\n",
        "- Soundtrack: Positive (\"quite good\")\n",
        "\n",
        "Step 3: Weigh the positive and negative aspects\n",
        "There are more negative aspects (3) than positive ones (2), and the negative aspects seem to outweigh the positives in importance.\n",
        "\n",
        "Step 4: Conclude the overall sentiment\n",
        "Given that the core elements of a movie (plot, characters, and pacing) are criticized, while only technical aspects (cinematography and soundtrack) are praised, the overall sentiment leans negative.\n",
        "\n",
        "Therefore, the overall sentiment of this review is negative.\n",
        "\n",
        "Now, analyze the sentiment of this review using the same step-by-step approach:\n",
        "\"\"\"\n",
        "query =  \"\"\" \"The movie started strong with an intriguing premise, but it quickly fell apart in the second act. The lead actor gave a stellar performance, yet the supporting cast seemed out of their depth. The special effects were top-notch, though they couldn't save the convoluted storyline.\"\n",
        "\"\"\"\n",
        "response = get_ai_response(query, cot_prompt)\n",
        "print(response)"
      ]
    },
    {
      "cell_type": "markdown",
      "metadata": {
        "id": "OoX_EPGb1UNs"
      },
      "source": [
        "## Medical Diagnosis Usecase\n",
        "\n",
        "This example showcases a medical diagnosis assistant using chain-of-thought reasoning to analyze patient symptoms and suggest potential diagnoses."
      ]
    },
    {
      "cell_type": "markdown",
      "source": [
        "### Zero-Shot Medical Diagnosis\n",
        "\n",
        "This example demonstrates a zero-shot approach to medical diagnosis, where we provide no examples and ask the model to suggest possible conditions based on symptoms."
      ],
      "metadata": {
        "id": "YTXVKilT5Wcp"
      }
    },
    {
      "cell_type": "code",
      "source": [
        "medical_prompt = \"\"\"\n",
        "You are an AI medical assistant capable of preliminary symptom analysis. Given a patient's symptoms,\n",
        "use your general medical knowledge to suggest possible conditions and recommend appropriate next steps.\n",
        "\"\"\"\n",
        "\n",
        "\n",
        "query = \"\"\"\n",
        "A 42-year-old woman reports experiencing frequent headaches, blurred vision, and occasional dizziness for the past three weeks. She mentions that the headaches are typically worse in the morning and improve throughout the day. She has no prior history of migraines or head injuries. The patient works long hours at a computer and has noticed increased stress at work recently. She also mentions that she has been waking up multiple times during the night to urinate, which is unusual for her.\n",
        "\"\"\"\n",
        "\n",
        "response = get_ai_response(query, medical_prompt)\n",
        "print(response)\n",
        "\n"
      ],
      "metadata": {
        "colab": {
          "base_uri": "https://localhost:8080/"
        },
        "id": "Upg57-Wm5X3c",
        "outputId": "a15d4ecf-e91d-47a5-82a8-10651a18f9b5"
      },
      "execution_count": 48,
      "outputs": [
        {
          "output_type": "stream",
          "name": "stdout",
          "text": [
            "The symptoms you're describing could be due to a number of conditions. The headaches, blurred vision, and dizziness could be related to stress, eye strain from prolonged computer use, or high blood pressure. However, the frequent urination at night (known as nocturia) could suggest a urinary tract infection, diabetes, or a kidney disorder.\n",
            "\n",
            "Given the range of symptoms and possible underlying conditions, it's important to seek medical attention. I would recommend you to:\n",
            "\n",
            "1. Schedule an appointment with your primary care physician as soon as possible. They may perform a physical examination and order some tests, such as blood tests and urine tests, to rule out conditions like diabetes or a urinary tract infection.\n",
            "\n",
            "2. Consider seeing an ophthalmologist or optometrist for an eye examination. Prolonged computer use can lead to a condition called computer vision syndrome, which can cause symptoms like headaches and blurred vision.\n",
            "\n",
            "3. Try to manage stress levels. Stress can exacerbate many health conditions and can cause headaches and dizziness. Consider stress management techniques such as yoga, meditation, or other relaxation exercises.\n",
            "\n",
            "4. Monitor your symptoms and keep a symptom diary. This can help your doctor understand your condition better.\n",
            "\n",
            "Remember, this advice is intended to be general in nature, and specific causes may not apply to your situation. Always consult with a healthcare provider for appropriate diagnosis and treatment.\n"
          ]
        }
      ]
    },
    {
      "cell_type": "markdown",
      "source": [
        "### Chain-of-Thought (CoT) Medical Diagnosis\n",
        "\n",
        "This example shows a chain-of-thought approach to medical diagnosis, where we guide the model through a step-by-step reasoning process."
      ],
      "metadata": {
        "id": "xhp0hVmB5YNi"
      }
    },
    {
      "cell_type": "code",
      "source": [
        "medical_prompt = \"\"\"\n",
        "You are an AI assistant trained to help identify potential medical conditions based on patient symptoms. Use the following Chain-of-Thought process to analyze the patient's situation and suggest possible diagnoses:\n",
        "\n",
        "Step 1: Gather and summarize key patient information\n",
        "- List the patient's age, gender, and any relevant medical history\n",
        "- Identify and list all symptoms mentioned by the patient\n",
        "\n",
        "Step 2: Analyze the symptoms\n",
        "- Group related symptoms together\n",
        "- Note the duration and severity of each symptom\n",
        "- Identify any potential triggering factors or patterns\n",
        "\n",
        "Step 3: Consider common conditions\n",
        "- List potential diagnoses that match the symptom profile\n",
        "- Prioritize conditions based on symptom alignment and patient demographics\n",
        "\n",
        "Step 4: Evaluate risk factors\n",
        "- Consider the patient's age, gender, and medical history as potential risk factors\n",
        "- Identify any lifestyle or environmental factors that may contribute to the condition\n",
        "\n",
        "Step 5: Suggest potential diagnostic tests\n",
        "- List relevant tests that could help confirm or rule out potential diagnoses\n",
        "- Explain why each test would be helpful in this case\n",
        "\n",
        "Step 6: Summarize findings\n",
        "- Provide a concise summary of the most likely condition(s) based on the analysis\n",
        "- Explain the reasoning behind your conclusions\n",
        "- Mention any important differential diagnoses that should be considered\n",
        "\n",
        "Step 7: Recommend next steps\n",
        "- Suggest appropriate medical professionals to consult (e.g., primary care physician, specialist)\n",
        "- Advise on any immediate actions the patient should take\n",
        "\n",
        "Remember, this is not a definitive diagnosis, but a preliminary analysis to guide further medical investigation. Always advise the patient to consult with a qualified healthcare professional for an accurate diagnosis and treatment plan.\n",
        "\n",
        "\n",
        "\"\"\"\n",
        "\n",
        "query = \"\"\" A 42-year-old woman reports experiencing frequent headaches, blurred vision, and occasional dizziness for the past three weeks. She mentions that the headaches are typically worse in the morning and improve throughout the day. She has no prior history of migraines or head injuries. The patient works long hours at a computer and has noticed increased stress at work recently. She also mentions that she has been waking up multiple times during the night to urinate, which is unusual for her.\n",
        " \"\"\"\n",
        "response = get_ai_response(query, medical_prompt)\n",
        "print(response)\n",
        "\n"
      ],
      "metadata": {
        "colab": {
          "base_uri": "https://localhost:8080/"
        },
        "id": "K56qBRwo5YVS",
        "outputId": "288a9817-1ef4-4a1a-8ddc-201d1a6df5e8"
      },
      "execution_count": 49,
      "outputs": [
        {
          "output_type": "stream",
          "name": "stdout",
          "text": [
            "Step 1: Gather and summarize key patient information\n",
            "- Age: 42\n",
            "- Gender: Female\n",
            "- Relevant medical history: No prior history of migraines or head injuries\n",
            "- Symptoms: Frequent headaches, blurred vision, occasional dizziness, nocturia (waking up to urinate at night), increased stress at work, long hours at a computer\n",
            "\n",
            "Step 2: Analyze the symptoms\n",
            "- Headaches, blurred vision, and dizziness are potentially related, suggesting a neurological or ocular issue.\n",
            "- Headaches are worse in the morning and improve throughout the day.\n",
            "- The patient has been experiencing these symptoms for the past three weeks.\n",
            "- Increased stress at work and long hours at a computer could be contributing factors.\n",
            "- Nocturia is a new symptom for the patient.\n",
            "\n",
            "Step 3: Consider common conditions\n",
            "- Potential diagnoses include tension headaches, high blood pressure, diabetes, or a neurological condition such as a brain tumor.\n",
            "\n",
            "Step 4: Evaluate risk factors\n",
            "- Age: Middle-aged, which increases risk for conditions like high blood pressure and diabetes.\n",
            "- Gender: Female, which can affect risk for certain conditions.\n",
            "- Medical history: No history of migraines or head injuries.\n",
            "- Lifestyle/environmental factors: High-stress job, long hours at a computer.\n",
            "\n",
            "Step 5: Suggest potential diagnostic tests\n",
            "- Blood pressure check: To rule out or confirm high blood pressure.\n",
            "- Blood glucose test: To rule out or confirm diabetes.\n",
            "- Eye exam: To check for any ocular issues causing blurred vision.\n",
            "- Neurological exam and potentially an MRI: If other tests are inconclusive, these could help identify any neurological issues.\n",
            "\n",
            "Step 6: Summarize findings\n",
            "- The patient's symptoms could be due to a variety of conditions, but given her age, gender, and symptoms, high blood pressure or diabetes seem most likely. Tension headaches due to stress and long hours at a computer could also be a factor. A more serious neurological condition is less likely but should not be ruled out without further testing.\n",
            "\n",
            "Step 7: Recommend next steps\n",
            "- The patient should consult with her primary care physician who can perform initial tests and potentially refer her to a specialist if necessary.\n",
            "- She should also consider ways to manage stress and take regular breaks from computer work.\n",
            "- If symptoms worsen or new symptoms appear, she should seek immediate medical attention.\n"
          ]
        }
      ]
    },
    {
      "cell_type": "markdown",
      "source": [
        "### 3-Shot Chain-of-Thought Medical Diagnosis\n",
        "\n",
        "This example demonstrates a 3-shot chain-of-thought approach to medical diagnosis, where we provide three examples before asking the model to analyze a new case.\n"
      ],
      "metadata": {
        "id": "Pkx_6QZE6DUV"
      }
    },
    {
      "cell_type": "code",
      "source": [
        "# Example: Chain-of-Thought\n",
        "cot_prompt = \"\"\"\n",
        "You are an AI medical assistant trained to analyze patient symptoms and suggest potential diagnoses. Use the following examples to guide your thought process when presented with new patient cases:\n",
        "\n",
        "Example 1:\n",
        "Patient: A 28-year-old woman complains of a sore throat and fever for the past 2 days.\n",
        "\n",
        "Thought process:\n",
        "1. Key symptoms: sore throat, fever\n",
        "2. Duration: 2 days\n",
        "3. Patient characteristics: young adult female\n",
        "4. Potential diagnoses:\n",
        "   a) Viral pharyngitis\n",
        "   b) Strep throat\n",
        "   c) Common cold\n",
        "5. Analysis:\n",
        "   - Short duration suggests acute infection\n",
        "   - Fever indicates possible bacterial infection\n",
        "6. Prioritized diagnoses:\n",
        "   1. Strep throat - matches symptoms and acuity\n",
        "   2. Viral pharyngitis - common but less likely with fever\n",
        "7. Recommendations:\n",
        "   - Throat swab for rapid strep test\n",
        "   - Symptomatic treatment (rest, hydration, pain relief)\n",
        "   - If strep positive, consider antibiotics\n",
        "\n",
        "Example 2:\n",
        "Patient: A 45-year-old man reports chest pain, shortness of breath, and fatigue for the past week.\n",
        "\n",
        "Thought process:\n",
        "1. Key symptoms: chest pain, shortness of breath, fatigue\n",
        "2. Duration: one week\n",
        "3. Patient characteristics: middle-aged male\n",
        "4. Potential diagnoses:\n",
        "   a) Coronary artery disease (CAD)\n",
        "   b) Pneumonia\n",
        "   c) Anxiety or panic disorder\n",
        "5. Analysis:\n",
        "   - Chest pain + shortness of breath suggest possible cardiac or respiratory issues\n",
        "   - Fatigue could be related to both cardiac and respiratory problems\n",
        "   - Age and gender increase risk for CAD\n",
        "6. Prioritized diagnoses:\n",
        "   1. CAD - fits age group and symptom profile\n",
        "   2. Pneumonia - possible but less likely without fever or cough\n",
        "   3. Anxiety - consider as differential diagnosis\n",
        "7. Recommendations:\n",
        "   - Urgent evaluation by a physician\n",
        "   - ECG and cardiac enzyme tests to rule out acute coronary syndrome\n",
        "   - Chest X-ray to assess for pneumonia\n",
        "   - Further history taking to determine nature of chest pain and any triggers\n",
        "\n",
        "Example 3:\n",
        "Patient: A 62-year-old woman with a history of hypertension presents with sudden onset of severe headache, confusion, and left-sided weakness.\n",
        "\n",
        "Thought process:\n",
        "1. Key symptoms: sudden severe headache, confusion, left-sided weakness\n",
        "2. Duration: sudden onset (acute)\n",
        "3. Patient characteristics: older adult female with hypertension history\n",
        "4. Potential diagnoses:\n",
        "   a) Stroke (ischemic or hemorrhagic)\n",
        "   b) Transient Ischemic Attack (TIA)\n",
        "   c) Complicated migraine\n",
        "   d) Brain tumor\n",
        "5. Analysis:\n",
        "   - Sudden onset of neurological symptoms suggests vascular event\n",
        "   - Left-sided weakness indicates right-sided brain involvement\n",
        "   - Hypertension is a significant risk factor for stroke\n",
        "   - Confusion could indicate large vessel involvement or increased intracranial pressure\n",
        "6. Prioritized diagnoses:\n",
        "   1. Acute stroke (high priority) - matches symptoms, risk factors, and acuity\n",
        "   2. TIA - similar presentation but typically resolves within 24 hours\n",
        "   3. Complicated migraine - less likely given age and presentation\n",
        "   4. Brain tumor - possible but less likely given acute onset\n",
        "7. Recommendations:\n",
        "   - Immediate emergency medical services activation (stroke alert)\n",
        "   - Urgent CT scan to differentiate between ischemic and hemorrhagic stroke\n",
        "   - Neurological examination and NIH Stroke Scale assessment\n",
        "   - If ischemic stroke confirmed and within time window, consider thrombolysis or mechanical thrombectomy\n",
        "   - Blood pressure management and supportive care\n",
        "\n",
        "\"\"\"\n",
        "\n",
        "\n",
        "query = \"\"\"\n",
        "A 42-year-old woman reports experiencing frequent headaches, blurred vision, and occasional dizziness for the past three weeks. She mentions that the headaches are typically worse in the morning and improve throughout the day. She has no prior history of migraines or head injuries. The patient works long hours at a computer and has noticed increased stress at work recently. She also mentions that she has been waking up multiple times during the night to urinate, which is unusual for her.\n",
        "\"\"\"\n",
        "\n",
        "response = get_ai_response(query, medical_prompt)\n",
        "print(response)"
      ],
      "metadata": {
        "colab": {
          "base_uri": "https://localhost:8080/"
        },
        "id": "zzYdkvUm6DeG",
        "outputId": "f65fa101-7a5a-47f5-ea21-aae1af716f98"
      },
      "execution_count": 50,
      "outputs": [
        {
          "output_type": "stream",
          "name": "stdout",
          "text": [
            "Step 1: Gather and summarize key patient information\n",
            "- Age: 42 years\n",
            "- Gender: Female\n",
            "- Relevant medical history: No prior history of migraines or head injuries\n",
            "- Symptoms: Frequent headaches, blurred vision, occasional dizziness, increased urination at night, and increased stress at work\n",
            "\n",
            "Step 2: Analyze the symptoms\n",
            "- Grouped symptoms: Headaches, blurred vision, and dizziness may be related. Increased urination at night could be a separate issue or related to the other symptoms.\n",
            "- Duration and severity: Symptoms have been present for three weeks. Headaches are worse in the morning and improve throughout the day.\n",
            "- Potential triggering factors or patterns: Long hours at a computer and increased stress at work. \n",
            "\n",
            "Step 3: Consider common conditions\n",
            "- Potential diagnoses: Tension headaches, stress-related disorders, high blood pressure, diabetes, or a neurological condition like a brain tumor.\n",
            "\n",
            "Step 4: Evaluate risk factors\n",
            "- Age and gender: Middle-aged women are at increased risk for tension headaches and stress-related disorders.\n",
            "- Medical history: No history of migraines or head injuries.\n",
            "- Lifestyle/environmental factors: Long hours at a computer and increased stress at work.\n",
            "\n",
            "Step 5: Suggest potential diagnostic tests\n",
            "- Blood pressure check: To rule out or confirm high blood pressure.\n",
            "- Blood glucose test: To rule out or confirm diabetes.\n",
            "- Eye examination: To check for any vision-related issues.\n",
            "- Brain imaging (MRI or CT scan): To rule out any neurological conditions like a brain tumor.\n",
            "- Urinalysis: To check for any urinary tract infections or kidney problems.\n",
            "\n",
            "Step 6: Summarize findings\n",
            "- The most likely conditions based on the symptoms and risk factors are tension headaches or a stress-related disorder. The patient's long hours at a computer and increased stress at work could be contributing to her symptoms. However, the increased urination at night is unusual and could suggest a condition like diabetes or a urinary tract infection. \n",
            "\n",
            "Step 7: Recommend next steps\n",
            "- The patient should consult with her primary care physician for further evaluation. If necessary, she may be referred to a neurologist or endocrinologist for further testing.\n",
            "- Immediate actions: The patient should try to manage her stress levels and take regular breaks from computer work. She should also monitor her symptoms and seek immediate medical attention if they worsen.\n"
          ]
        }
      ]
    },
    {
      "cell_type": "markdown",
      "source": [
        "### Benefits of the Production-Ready Chain-of-Thought Approach\n",
        "\n",
        "The production-ready Chain-of-Thought (CoT) approach offers significant advantages for both end-users and developers:\n",
        "\n",
        "1. **For Customers: Clear, Concise Answers**\n",
        "   - The `<ans>` tags encapsulate the final output, allowing systems to:\n",
        "     - Present only the relevant conclusion to end-users\n",
        "     - Provide clear, actionable information without overwhelming details\n",
        "     - Deliver a consistent user experience across different queries\n",
        "\n",
        "2. **For Developers: Transparent Reasoning Process**\n",
        "   - The `<thinking>` tags preserve the AI's reasoning, enabling developers to:\n",
        "     - Debug and improve the AI's logic by examining its step-by-step thought process\n",
        "     - Audit the AI's decision-making for accuracy and bias\n",
        "     - Refine prompts and model behavior based on detailed insights into the AI's reasoning\n",
        "     - Implement robust error handling and quality control measures\n",
        "\n",
        "This dual approach ensures that while customers receive straightforward, useful responses, developers retain full visibility into the AI's decision-making process.\n",
        "\n",
        "\n"
      ],
      "metadata": {
        "id": "5CjnD-la5PmH"
      }
    },
    {
      "cell_type": "code",
      "execution_count": 51,
      "metadata": {
        "colab": {
          "base_uri": "https://localhost:8080/"
        },
        "id": "5d92pKOQ1UNs",
        "outputId": "9a72e97a-f2c9-4119-add8-889063e4ed04"
      },
      "outputs": [
        {
          "output_type": "stream",
          "name": "stdout",
          "text": [
            "<thinking>\n",
            "1. Identify key symptoms: frequent headaches, blurred vision, occasional dizziness, nocturia (waking up to urinate at night)\n",
            "2. Consider duration: symptoms present for three weeks\n",
            "3. Assess risk factors: long hours at a computer, increased stress at work\n",
            "4. Generate potential diagnoses:\n",
            "   a) Brain tumor\n",
            "   b) Diabetes\n",
            "   c) Glaucoma\n",
            "   d) Stress or tension headaches\n",
            "5. Analyze symptom patterns:\n",
            "   - Headaches that are worse in the morning and improve throughout the day, along with blurred vision and dizziness, could suggest increased intracranial pressure, which is seen in conditions like brain tumors\n",
            "   - Nocturia can be a symptom of diabetes, but there are no other typical symptoms like excessive thirst or weight loss\n",
            "   - Blurred vision can be a symptom of glaucoma, but this condition doesn't typically cause headaches or dizziness\n",
            "   - Long hours at a computer and increased stress could cause tension headaches, but these wouldn't explain the nocturia or blurred vision\n",
            "6. Prioritize diagnoses:\n",
            "   1. Brain tumor - fits symptom profile, but is a serious condition that requires further testing to confirm\n",
            "   2. Diabetes - possible given the nocturia, but other symptoms are not typical\n",
            "   3. Glaucoma - less likely without other eye symptoms\n",
            "   4. Stress or tension headaches - possible, but doesn't explain all symptoms\n",
            "7. Recommend next steps:\n",
            "   - Urgent evaluation by a physician\n",
            "   - Blood tests to check for diabetes\n",
            "   - Eye examination to rule out glaucoma\n",
            "   - MRI or CT scan of the brain to rule out a brain tumor\n",
            "   - Detailed history taking to further understand the nature of the headaches and any potential triggers\n",
            "</thinking>\n",
            "\n",
            "<ans>\n",
            "Based on the symptoms and risk factors, a brain tumor could be a possible diagnosis, but further testing is required to confirm. Diabetes and glaucoma should also be considered, as well as stress or tension headaches. The patient should seek urgent medical evaluation, including blood tests, an eye examination, and possibly an MRI or CT scan of the brain. A detailed history of the headaches and any potential triggers is also crucial for accurate diagnosis.\n",
            "</ans>\n"
          ]
        }
      ],
      "source": [
        "medical_prompt = \"\"\"\n",
        "You are an AI medical assistant trained to analyze patient symptoms and suggest potential diagnoses. Use the following example to guide your thought process when presented with a new patient case. Enclose your reasoning within <thinking></thinking> tags and your final answer within <ans></ans> tags.\n",
        "\n",
        "Example:\n",
        "Patient: A 45-year-old man complains of chest pain, shortness of breath, and fatigue for the past week.\n",
        "\n",
        "<thinking>\n",
        "1. Identify key symptoms: chest pain, shortness of breath, fatigue\n",
        "2. Consider duration: symptoms present for one week\n",
        "3. Assess risk factors: middle-aged male\n",
        "4. Generate potential diagnoses:\n",
        "   a) Coronary artery disease (CAD)\n",
        "   b) Pneumonia\n",
        "   c) Anxiety or panic disorder\n",
        "5. Analyze symptom patterns:\n",
        "   - Chest pain + shortness of breath suggest possible cardiac or respiratory issues\n",
        "   - Fatigue could be related to both cardiac and respiratory problems\n",
        "6. Prioritize diagnoses:\n",
        "   1. CAD - fits age group and symptom profile\n",
        "   2. Pneumonia - possible but less likely without fever or cough\n",
        "   3. Anxiety - consider as differential diagnosis\n",
        "7. Recommend next steps:\n",
        "   - Urgent evaluation by a physician\n",
        "   - ECG and cardiac enzyme tests to rule out acute coronary syndrome\n",
        "   - Chest X-ray to assess for pneumonia\n",
        "   - Further history taking to determine nature of chest pain and any triggers\n",
        "</thinking>\n",
        "\n",
        "<ans>\n",
        "Based on the symptoms and risk factors, the most likely diagnosis is Coronary Artery Disease (CAD). However, pneumonia and anxiety should also be considered. The patient requires urgent medical evaluation, including ECG, cardiac enzyme tests, and a chest X-ray. A detailed history of the chest pain characteristics is crucial for accurate diagnosis.\n",
        "</ans>\n",
        "\n",
        "Now, analyze the following patient case:\n",
        "\"\"\"\n",
        "\n",
        "query = \"\"\"\n",
        "A 42-year-old woman reports experiencing frequent headaches, blurred vision, and occasional dizziness for the past three weeks. She mentions that the headaches are typically worse in the morning and improve throughout the day. She has no prior history of migraines or head injuries. The patient works long hours at a computer and has noticed increased stress at work recently. She also mentions that she has been waking up multiple times during the night to urinate, which is unusual for her.\n",
        "\"\"\"\n",
        "\n",
        "response = get_ai_response(query, medical_prompt)\n",
        "print(response)\n",
        "\n"
      ]
    },
    {
      "cell_type": "markdown",
      "source": [
        "Filter the answer for the user"
      ],
      "metadata": {
        "id": "89srW8v04Hgh"
      }
    },
    {
      "cell_type": "code",
      "source": [
        "answer = extract_answer(response)\n",
        "if answer:\n",
        "    print(answer)"
      ],
      "metadata": {
        "colab": {
          "base_uri": "https://localhost:8080/"
        },
        "id": "HeZQCFf74H65",
        "outputId": "b568657e-c949-48e2-b5f9-b32e6a8d8c68"
      },
      "execution_count": 52,
      "outputs": [
        {
          "output_type": "stream",
          "name": "stdout",
          "text": [
            "Based on the symptoms and risk factors, a brain tumor could be a possible diagnosis, but further testing is required to confirm. Diabetes and glaucoma should also be considered, as well as stress or tension headaches. The patient should seek urgent medical evaluation, including blood tests, an eye examination, and possibly an MRI or CT scan of the brain. A detailed history of the headaches and any potential triggers is also crucial for accurate diagnosis.\n"
          ]
        }
      ]
    },
    {
      "cell_type": "markdown",
      "metadata": {
        "id": "tMDKbsxh1UNs"
      },
      "source": [
        "## Conclusion\n",
        "\n",
        "1. **Zero-Shot Prompting**:\n",
        "   - Simplest approach, relying on the model's pre-trained knowledge\n",
        "   - Effective for straightforward tasks but limited for complex medical diagnoses\n",
        "\n",
        "2. **Few-Shot Prompting**:\n",
        "   - Introduces examples to guide the AI, improving relevance and accuracy\n",
        "   - Helps the model understand the desired output format and context\n",
        "\n",
        "3. **Chain-of-Thought (CoT) Prompting**:\n",
        "   - Encourages step-by-step reasoning, enhancing the AI's analytical capabilities\n",
        "   - Provides transparency into the AI's decision-making process\n",
        "\n",
        "4. **3-Shot CoT**:\n",
        "   - Refines the CoT approach with multiple examples\n",
        "   - Improves consistency and depth of analysis across various medical scenarios\n",
        "\n",
        "5. **Production-Ready CoT**:\n",
        "   - Structures prompts for real-world applications\n",
        "   - Separates thinking process (`<thinking>` tags) from final answers (`<ans>` tags)\n",
        "   - Balances detailed analysis for developers with concise outputs for end-users\n"
      ]
    },
    {
      "cell_type": "code",
      "source": [],
      "metadata": {
        "id": "7yyf2bMj_vBg"
      },
      "execution_count": null,
      "outputs": []
    }
  ],
  "metadata": {
    "kernelspec": {
      "display_name": "Python 3",
      "language": "python",
      "name": "python3"
    },
    "language_info": {
      "codemirror_mode": {
        "name": "ipython",
        "version": 3
      },
      "file_extension": ".py",
      "mimetype": "text/x-python",
      "name": "python",
      "nbconvert_exporter": "python",
      "pygments_lexer": "ipython3",
      "version": "3.8.10"
    },
    "colab": {
      "provenance": [],
      "toc_visible": true
    }
  },
  "nbformat": 4,
  "nbformat_minor": 0
}